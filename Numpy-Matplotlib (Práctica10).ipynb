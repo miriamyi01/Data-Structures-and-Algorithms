{
 "cells": [
  {
   "cell_type": "code",
   "execution_count": 1,
   "metadata": {},
   "outputs": [
    {
     "name": "stdout",
     "output_type": "stream",
     "text": [
      "Populating the interactive namespace from numpy and matplotlib\n"
     ]
    }
   ],
   "source": [
    "#Esta línea se utiliza para que las gráficas que se creen queden embebidas dentro de la notebook.\n",
    "%pylab inline"
   ]
  },
  {
   "cell_type": "code",
   "execution_count": 2,
   "metadata": {},
   "outputs": [],
   "source": [
    "#Los comentatios en Pytho empiezan con el signo #\n",
    "#Cargar módulo de numpy\n",
    "import numpy as np"
   ]
  },
  {
   "cell_type": "code",
   "execution_count": 3,
   "metadata": {},
   "outputs": [],
   "source": [
    "vector = array([1,2,3,4,5,6])\n",
    "matriz = array([[1, 2], [3, 4], [5, 6]])"
   ]
  },
  {
   "cell_type": "code",
   "execution_count": 4,
   "metadata": {},
   "outputs": [
    {
     "name": "stdout",
     "output_type": "stream",
     "text": [
      "[1 2 3 4 5 6]\n",
      "\n",
      "[[1 2]\n",
      " [3 4]\n",
      " [5 6]]\n",
      "\n",
      "Tamaño del vector (6,)\n",
      "Tamaño de la matriz (3, 2)\n"
     ]
    }
   ],
   "source": [
    "#imprimir contenido y tamaño del vector y la matriz\n",
    "print(vector)\n",
    "print()  #Línea vacía\n",
    "print(matriz)\n",
    "print()\n",
    "print(\"Tamaño del vector {}\".format(vector.shape))\n",
    "print(\"Tamaño de la matriz {}\".format(matriz.shape))"
   ]
  },
  {
   "cell_type": "code",
   "execution_count": 5,
   "metadata": {},
   "outputs": [
    {
     "name": "stdout",
     "output_type": "stream",
     "text": [
      "El vector tiene 6 elementos\n",
      "La matriz es de 3,2 con un total de 6 elementos\n"
     ]
    }
   ],
   "source": [
    "#Los valores del tamaño del vector o matrices se pueden acceder de la siguiente manera\n",
    "\n",
    "v_elem = vector.size\n",
    "\n",
    "#Forma 1\n",
    "m_reng, m_column = matriz.shape\n",
    "\n",
    "#Forma 2\n",
    "m_reng = matriz.shape[0]\n",
    "m_column = matriz.shape[1]\n",
    "\n",
    "#Forma 3\n",
    "m_reng, m_column = matriz.shape[0], matriz.shape[1]\n",
    "\n",
    "\n",
    "print(\"El vector tiene {} elementos\".format(v_elem))\n",
    "print(\"La matriz es de {},{} con un total de {} elementos\".format(m_reng, m_column, matriz.size))"
   ]
  },
  {
   "cell_type": "code",
   "execution_count": 6,
   "metadata": {},
   "outputs": [],
   "source": [
    "#También se pueden crear vectores y matrices de la siguiente forma\n",
    "v_ceros = zeros(4)\n",
    "v_unos = ones(4)\n",
    "v_random = np.random.rand(8)    #Se generan números aleatorios\n",
    "\n",
    "m_ceros = zeros([4,3])\n",
    "m_unos = ones([4,5])\n",
    "m_random = np.random.rand(6,4) #Se generan números aleatorios"
   ]
  },
  {
   "cell_type": "code",
   "execution_count": 7,
   "metadata": {},
   "outputs": [
    {
     "name": "stdout",
     "output_type": "stream",
     "text": [
      "Imprimiendo los vectores\n",
      "[0. 0. 0. 0.]\n",
      "[1. 1. 1. 1.]\n",
      "[0.0839523  0.25867127 0.39998623 0.74687746 0.71300165 0.32058521\n",
      " 0.60456517 0.9595909 ]\n",
      "\n",
      "Imprimiendo las matrices\n",
      "[[0. 0. 0.]\n",
      " [0. 0. 0.]\n",
      " [0. 0. 0.]\n",
      " [0. 0. 0.]]\n",
      "[[1. 1. 1. 1. 1.]\n",
      " [1. 1. 1. 1. 1.]\n",
      " [1. 1. 1. 1. 1.]\n",
      " [1. 1. 1. 1. 1.]]\n",
      "[[0.78196686 0.16028104 0.32311857 0.3481049 ]\n",
      " [0.12943868 0.44681751 0.90365473 0.90851129]\n",
      " [0.53828863 0.00623149 0.9594307  0.23800294]\n",
      " [0.3424464  0.60746972 0.48736512 0.0922825 ]\n",
      " [0.69219939 0.63418982 0.76200462 0.61399671]\n",
      " [0.96294278 0.92767865 0.94388236 0.42750015]]\n"
     ]
    }
   ],
   "source": [
    "print(\"Imprimiendo los vectores\")\n",
    "print(v_ceros)\n",
    "print(v_unos)\n",
    "print(v_random)\n",
    "print()\n",
    "print(\"Imprimiendo las matrices\")\n",
    "print(m_ceros)\n",
    "print(m_unos)\n",
    "print(m_random)"
   ]
  },
  {
   "cell_type": "code",
   "execution_count": 8,
   "metadata": {},
   "outputs": [
    {
     "name": "stdout",
     "output_type": "stream",
     "text": [
      "0.258671268876704\n",
      "0.7468774573304133\n"
     ]
    }
   ],
   "source": [
    "# Los índices de los vectores y matrices empiezan en cero\n",
    "print(v_random[1])\n",
    "print(v_random[3]) #El índice 3 no existe, por lo que marca un error al tratar de acceder a él"
   ]
  },
  {
   "cell_type": "code",
   "execution_count": 9,
   "metadata": {},
   "outputs": [
    {
     "name": "stdout",
     "output_type": "stream",
     "text": [
      "Renglo 1 [0.12943868 0.44681751 0.90365473 0.90851129]\n"
     ]
    }
   ],
   "source": [
    "#Los índices de las matrices están organizados de la forma [renglones, columnas]\n",
    "print(\"Renglo 1 {}\".format(m_random[1,:]))"
   ]
  },
  {
   "cell_type": "code",
   "execution_count": 10,
   "metadata": {},
   "outputs": [
    {
     "name": "stdout",
     "output_type": "stream",
     "text": [
      "Columna 3 [0.3481049  0.90851129 0.23800294 0.0922825  0.61399671 0.42750015]\n"
     ]
    }
   ],
   "source": [
    "print(\"Columna 3 {}\".format(m_random[:,3]))"
   ]
  },
  {
   "cell_type": "code",
   "execution_count": 11,
   "metadata": {},
   "outputs": [
    {
     "name": "stdout",
     "output_type": "stream",
     "text": [
      "Primero dos renglones [[0.78196686 0.16028104 0.32311857 0.3481049 ]\n",
      " [0.12943868 0.44681751 0.90365473 0.90851129]]\n"
     ]
    }
   ],
   "source": [
    "print(\"Primero dos renglones {}\".format(m_random[:2]))"
   ]
  },
  {
   "cell_type": "code",
   "execution_count": 12,
   "metadata": {},
   "outputs": [
    {
     "name": "stdout",
     "output_type": "stream",
     "text": [
      "Del renglón 3 en adelante [[0.3424464  0.60746972 0.48736512 0.0922825 ]\n",
      " [0.69219939 0.63418982 0.76200462 0.61399671]\n",
      " [0.96294278 0.92767865 0.94388236 0.42750015]]\n"
     ]
    }
   ],
   "source": [
    "print(\"Del renglón 3 en adelante {}\".format(m_random[3:]))"
   ]
  },
  {
   "cell_type": "code",
   "execution_count": 13,
   "metadata": {},
   "outputs": [
    {
     "name": "stdout",
     "output_type": "stream",
     "text": [
      "Últimos dos renglones [[0.69219939 0.63418982 0.76200462 0.61399671]\n",
      " [0.96294278 0.92767865 0.94388236 0.42750015]]\n"
     ]
    }
   ],
   "source": [
    "print(\"Últimos dos renglones {}\".format(m_random[-2:]))"
   ]
  },
  {
   "cell_type": "code",
   "execution_count": 14,
   "metadata": {},
   "outputs": [
    {
     "ename": "SyntaxError",
     "evalue": "invalid syntax (<ipython-input-14-9ae9467d4c3d>, line 1)",
     "output_type": "error",
     "traceback": [
      "\u001b[0;36m  File \u001b[0;32m\"<ipython-input-14-9ae9467d4c3d>\"\u001b[0;36m, line \u001b[0;32m1\u001b[0m\n\u001b[0;31m    print(\"Últimos dos renglones {}\".format(m_random[,-2:]))\u001b[0m\n\u001b[0m                                                     ^\u001b[0m\n\u001b[0;31mSyntaxError\u001b[0m\u001b[0;31m:\u001b[0m invalid syntax\n"
     ]
    }
   ],
   "source": [
    "print(\"Últimos dos renglones {}\".format(m_random[,-2:]))"
   ]
  },
  {
   "cell_type": "code",
   "execution_count": 15,
   "metadata": {},
   "outputs": [
    {
     "name": "stdout",
     "output_type": "stream",
     "text": [
      "Original: [0.0839523  0.25867127 0.39998623 0.74687746 0.71300165 0.32058521\n",
      " 0.60456517 0.9595909 ]\n",
      "sub_1 del 3-5: [0.74687746 0.71300165 0.32058521]\n",
      "sub_2: del 5-8 [0.32058521 0.60456517 0.9595909 ]\n"
     ]
    }
   ],
   "source": [
    "print(\"Original: {}\".format(v_random))\n",
    "#Se hace un sub-vector de 3 elementos empezando por el que está en el índice 3 y hasta el 5. \n",
    "#Como se observa, el primer índice la posición del primer elemento que se va a tomar, mientras que el segundo \n",
    "#índice indica que se va a tomar hasta el elemento anterior a ese índice.\n",
    "\n",
    "sub_v = v_random[3:6]\n",
    "print(\"sub_1 del 3-5: {}\".format(sub_v))\n",
    "\n",
    "sub_v2 = v_random[5:9]\n",
    "print(\"sub_2: del 5-8 {}\".format(sub_v2))"
   ]
  },
  {
   "cell_type": "code",
   "execution_count": 16,
   "metadata": {},
   "outputs": [
    {
     "name": "stdout",
     "output_type": "stream",
     "text": [
      "Original\n",
      "[[0.78196686 0.16028104 0.32311857 0.3481049 ]\n",
      " [0.12943868 0.44681751 0.90365473 0.90851129]\n",
      " [0.53828863 0.00623149 0.9594307  0.23800294]\n",
      " [0.3424464  0.60746972 0.48736512 0.0922825 ]\n",
      " [0.69219939 0.63418982 0.76200462 0.61399671]\n",
      " [0.96294278 0.92767865 0.94388236 0.42750015]]\n",
      "\n",
      " Sub-conjunto [1-2-3, 1-2]\n",
      "[[0.44681751 0.90365473]\n",
      " [0.00623149 0.9594307 ]\n",
      " [0.60746972 0.48736512]]\n"
     ]
    }
   ],
   "source": [
    "print(\"Original\")\n",
    "print(m_random)\n",
    "print(\"\\n Sub-conjunto [1-2-3, 1-2]\")\n",
    "print(m_random[1:4,1:3])"
   ]
  },
  {
   "cell_type": "code",
   "execution_count": 17,
   "metadata": {},
   "outputs": [
    {
     "name": "stdout",
     "output_type": "stream",
     "text": [
      "[0.78196686 0.16028104 0.32311857 0.3481049 ]\n",
      "0.7819668593209975\n",
      "0.16028104091992368\n",
      "0.32311857099905406\n",
      "0.3481048977341522\n",
      "[0.12943868 0.44681751 0.90365473 0.90851129]\n",
      "0.12943867644163354\n",
      "0.446817507383531\n",
      "0.9036547305344922\n",
      "0.9085112865238631\n",
      "[0.53828863 0.00623149 0.9594307  0.23800294]\n",
      "0.5382886289789685\n",
      "0.006231490853165211\n",
      "0.9594306956777989\n",
      "0.2380029406464701\n",
      "[0.3424464  0.60746972 0.48736512 0.0922825 ]\n",
      "0.3424463972903731\n",
      "0.607469719801249\n",
      "0.48736511620754075\n",
      "0.09228249888142748\n",
      "[0.69219939 0.63418982 0.76200462 0.61399671]\n",
      "0.6921993890515798\n",
      "0.6341898192602069\n",
      "0.7620046216500574\n",
      "0.6139967128489077\n",
      "[0.96294278 0.92767865 0.94388236 0.42750015]\n",
      "0.9629427762805857\n",
      "0.9276786498577272\n",
      "0.9438823598022311\n",
      "0.42750015473138836\n"
     ]
    }
   ],
   "source": [
    "#Los arreglos y vectores también se pueden recorrer mediante ciclos\n",
    "#Recorriendo la matriz usando índices\n",
    "for i in range(0, m_random.shape[0]):\n",
    "    print(m_random[i,:]) #Se imprime el renlón completo\n",
    "    for j in range(0, m_random.shape[1]):\n",
    "        print(m_random[i,j]) #Se imprime el elemento de cada renglón"
   ]
  },
  {
   "cell_type": "code",
   "execution_count": 18,
   "metadata": {},
   "outputs": [
    {
     "name": "stdout",
     "output_type": "stream",
     "text": [
      "Original:\n",
      "[[0.78196686 0.16028104 0.32311857 0.3481049 ]\n",
      " [0.12943868 0.44681751 0.90365473 0.90851129]\n",
      " [0.53828863 0.00623149 0.9594307  0.23800294]\n",
      " [0.3424464  0.60746972 0.48736512 0.0922825 ]\n",
      " [0.69219939 0.63418982 0.76200462 0.61399671]\n",
      " [0.96294278 0.92767865 0.94388236 0.42750015]]\n"
     ]
    }
   ],
   "source": [
    "print(\"Original:\")\n",
    "print(m_random)"
   ]
  },
  {
   "cell_type": "code",
   "execution_count": 19,
   "metadata": {},
   "outputs": [],
   "source": [
    "#Guardando la matriz m_random en el archivo m_random.csv usando como delimitador ','\n",
    "np.savetxt(\"m_random.csv\",m_random, delimiter=\",\")"
   ]
  },
  {
   "cell_type": "code",
   "execution_count": 21,
   "metadata": {},
   "outputs": [],
   "source": [
    "#Cargando la matriz guardada en m_random.csv\n",
    "m_load = np.loadtxt(\"m_random.csv\",delimiter=\",\")"
   ]
  },
  {
   "cell_type": "code",
   "execution_count": 22,
   "metadata": {},
   "outputs": [
    {
     "name": "stdout",
     "output_type": "stream",
     "text": [
      "Matriz guardada y cargada:\n",
      "[[0.78196686 0.16028104 0.32311857 0.3481049 ]\n",
      " [0.12943868 0.44681751 0.90365473 0.90851129]\n",
      " [0.53828863 0.00623149 0.9594307  0.23800294]\n",
      " [0.3424464  0.60746972 0.48736512 0.0922825 ]\n",
      " [0.69219939 0.63418982 0.76200462 0.61399671]\n",
      " [0.96294278 0.92767865 0.94388236 0.42750015]]\n"
     ]
    }
   ],
   "source": [
    "print(\"Matriz guardada y cargada:\")\n",
    "print(m_load)"
   ]
  },
  {
   "cell_type": "code",
   "execution_count": 23,
   "metadata": {},
   "outputs": [
    {
     "name": "stdout",
     "output_type": "stream",
     "text": [
      "[[9. 9. 9. 9. 9.]\n",
      " [9. 9. 9. 9. 9.]\n",
      " [9. 9. 9. 9. 9.]\n",
      " [9. 9. 9. 9. 9.]]\n"
     ]
    }
   ],
   "source": [
    "#Simplemente se multiplica la matriz por el escalar deseado\n",
    "resultado = m_unos * 9\n",
    "print(resultado)"
   ]
  },
  {
   "cell_type": "code",
   "execution_count": 24,
   "metadata": {},
   "outputs": [
    {
     "name": "stdout",
     "output_type": "stream",
     "text": [
      "[[9. 9. 9. 9.]\n",
      " [9. 9. 9. 9.]\n",
      " [9. 9. 9. 9.]\n",
      " [9. 9. 9. 9.]\n",
      " [9. 9. 9. 9.]]\n"
     ]
    }
   ],
   "source": [
    "#Para hacer la transpuesta de una matriz, sólo se utiliza el operador T a la matriz\n",
    "result_T = resultado.T\n",
    "print(result_T)"
   ]
  },
  {
   "cell_type": "code",
   "execution_count": 25,
   "metadata": {},
   "outputs": [
    {
     "name": "stdout",
     "output_type": "stream",
     "text": [
      "Índices de las matrices:\n",
      "(4, 5)\n",
      "(5, 4)\n",
      "\n",
      "Resultado de la multiplicación m_unos * result_T\n",
      "[[45. 45. 45. 45.]\n",
      " [45. 45. 45. 45.]\n",
      " [45. 45. 45. 45.]\n",
      " [45. 45. 45. 45.]]\n"
     ]
    }
   ],
   "source": [
    "#Para la multiplicación de matrices se necesitas que el índice las columnas de la primera matriz coincida \n",
    "#con el índice de renglones de la segunda matriz\n",
    "print(\"Índices de las matrices:\")\n",
    "print(m_unos.shape)\n",
    "print(result_T.shape)\n",
    "\n",
    "#Para realizar la operación se utiliza la función dot()\n",
    "print(\"\\nResultado de la multiplicación m_unos * result_T\")\n",
    "print(np.dot(m_unos, result_T))"
   ]
  },
  {
   "cell_type": "code",
   "execution_count": null,
   "metadata": {},
   "outputs": [],
   "source": []
  }
 ],
 "metadata": {
  "kernelspec": {
   "display_name": "Python 3",
   "language": "python",
   "name": "python3"
  },
  "language_info": {
   "codemirror_mode": {
    "name": "ipython",
    "version": 3
   },
   "file_extension": ".py",
   "mimetype": "text/x-python",
   "name": "python",
   "nbconvert_exporter": "python",
   "pygments_lexer": "ipython3",
   "version": "3.7.6"
  }
 },
 "nbformat": 4,
 "nbformat_minor": 4
}
