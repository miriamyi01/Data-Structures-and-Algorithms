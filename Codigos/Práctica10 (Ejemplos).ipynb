{
 "cells": [
  {
   "cell_type": "code",
   "execution_count": 1,
   "metadata": {},
   "outputs": [],
   "source": [
    "def obtenerMayor(param1,param2):\n",
    "    if param1 < param2:\n",
    "        print('{} es mayor que {}'.format(param2, param1))"
   ]
  },
  {
   "cell_type": "code",
   "execution_count": 2,
   "metadata": {},
   "outputs": [
    {
     "name": "stdout",
     "output_type": "stream",
     "text": [
      "7 es mayor que 5\n"
     ]
    }
   ],
   "source": [
    "obtenerMayor(5, 7)"
   ]
  },
  {
   "cell_type": "code",
   "execution_count": 3,
   "metadata": {},
   "outputs": [],
   "source": [
    "obtenerMayor(7, 5)   #No imprime nada"
   ]
  },
  {
   "cell_type": "code",
   "execution_count": 4,
   "metadata": {},
   "outputs": [
    {
     "name": "stdout",
     "output_type": "stream",
     "text": [
      "True\n"
     ]
    }
   ],
   "source": [
    "x = y = z = 3\n",
    "if x == y == z: \n",
    "    print(True)"
   ]
  },
  {
   "cell_type": "code",
   "execution_count": 5,
   "metadata": {},
   "outputs": [],
   "source": [
    "def obtenerMayorv2(param1,param2):\n",
    "    if param1 < param2:\n",
    "        return param2\n",
    "    else:\n",
    "        return param1"
   ]
  },
  {
   "cell_type": "code",
   "execution_count": 6,
   "metadata": {},
   "outputs": [
    {
     "name": "stdout",
     "output_type": "stream",
     "text": [
      "El mayor es 20\n"
     ]
    }
   ],
   "source": [
    "print (\"El mayor es {}\".format( obtenerMayorv2(4, 20) ))"
   ]
  },
  {
   "cell_type": "code",
   "execution_count": 7,
   "metadata": {},
   "outputs": [
    {
     "name": "stdout",
     "output_type": "stream",
     "text": [
      "El mayor es 11\n"
     ]
    }
   ],
   "source": [
    "print (\"El mayor es {}\".format( obtenerMayorv2(11, 6) ))"
   ]
  },
  {
   "cell_type": "code",
   "execution_count": 8,
   "metadata": {},
   "outputs": [],
   "source": [
    "def obtenerMayor_idiom(param1,param2):\n",
    "    #La variable valor va a tener el valor de param2 is el if es verdadero\n",
    "    #de lo contrario tendra el valor de param1\n",
    "    valor = param2 if (param1 < param2) else param1\n",
    "    return valor"
   ]
  },
  {
   "cell_type": "code",
   "execution_count": 9,
   "metadata": {},
   "outputs": [
    {
     "name": "stdout",
     "output_type": "stream",
     "text": [
      "El mayor es 11\n"
     ]
    }
   ],
   "source": [
    "print (\"El mayor es {}\".format( obtenerMayor_idiom(11, 6) ))"
   ]
  },
  {
   "cell_type": "code",
   "execution_count": 10,
   "metadata": {},
   "outputs": [],
   "source": [
    "def numeros(num):\n",
    "    if num==1:\n",
    "     print (\"tu numero es 1\")\n",
    "    elif num==2:\n",
    "     print (\"el numero es 2\")\n",
    "    elif num==3:\n",
    "     print (\"el numero es 3\")\n",
    "    elif num==4:\n",
    "     print (\"el numero es 4\")\n",
    "    else:\n",
    "     print (\"no hay opcion\")"
   ]
  },
  {
   "cell_type": "code",
   "execution_count": 11,
   "metadata": {},
   "outputs": [
    {
     "name": "stdout",
     "output_type": "stream",
     "text": [
      "el numero es 2\n"
     ]
    }
   ],
   "source": [
    "numeros(2)"
   ]
  },
  {
   "cell_type": "code",
   "execution_count": 12,
   "metadata": {},
   "outputs": [
    {
     "name": "stdout",
     "output_type": "stream",
     "text": [
      "no hay opcion\n"
     ]
    }
   ],
   "source": [
    "numeros(5)"
   ]
  },
  {
   "cell_type": "code",
   "execution_count": 13,
   "metadata": {},
   "outputs": [],
   "source": [
    "def numeros_idiom(num):\n",
    "    #La tupla tiene las opciones válidas\n",
    "    if num in (1,2,3,4):\n",
    "        print(\"tu numero es {}\".format(num))\n",
    "    else:\n",
    "        print (\"{} no es una opcion\".format(num))"
   ]
  },
  {
   "cell_type": "code",
   "execution_count": 14,
   "metadata": {},
   "outputs": [
    {
     "name": "stdout",
     "output_type": "stream",
     "text": [
      "tu numero es 2\n"
     ]
    }
   ],
   "source": [
    "numeros_idiom(2)"
   ]
  },
  {
   "cell_type": "code",
   "execution_count": 15,
   "metadata": {},
   "outputs": [
    {
     "name": "stdout",
     "output_type": "stream",
     "text": [
      "5 no es una opcion\n"
     ]
    }
   ],
   "source": [
    "numeros_idiom(5)"
   ]
  },
  {
   "cell_type": "code",
   "execution_count": 16,
   "metadata": {},
   "outputs": [],
   "source": [
    "def obtenerMasGrande(a, b, c):\n",
    "    if a > b:\n",
    "        if a > c:\n",
    "            return a\n",
    "        else:\n",
    "            return c\n",
    "    else:\n",
    "        if b > c:\n",
    "            return b\n",
    "        else:\n",
    "            return c"
   ]
  },
  {
   "cell_type": "code",
   "execution_count": 17,
   "metadata": {},
   "outputs": [
    {
     "name": "stdout",
     "output_type": "stream",
     "text": [
      "El mas grande es 13\n"
     ]
    }
   ],
   "source": [
    "print (\"El mas grande es {}\".format(obtenerMasGrande(7,13,1) ))"
   ]
  },
  {
   "cell_type": "code",
   "execution_count": 18,
   "metadata": {},
   "outputs": [],
   "source": [
    "#Ejemplo 1\n",
    "def cuenta(limite):\n",
    "    i = limite\n",
    "    while True:\n",
    "        print (i)\n",
    "        i = i -1\n",
    "        if i == 0:\n",
    "            break # Rompiendo el ciclo"
   ]
  },
  {
   "cell_type": "code",
   "execution_count": 19,
   "metadata": {},
   "outputs": [
    {
     "name": "stdout",
     "output_type": "stream",
     "text": [
      "10\n",
      "9\n",
      "8\n",
      "7\n",
      "6\n",
      "5\n",
      "4\n",
      "3\n",
      "2\n",
      "1\n"
     ]
    }
   ],
   "source": [
    "cuenta(10)"
   ]
  },
  {
   "cell_type": "code",
   "execution_count": 20,
   "metadata": {},
   "outputs": [],
   "source": [
    "#Ejemplo 2\n",
    "def factorial(n):\n",
    "    i = 2\n",
    "    tmp = 1\n",
    "    while i <n+1:\n",
    "        tmp = tmp * i\n",
    "        i = i + 1\n",
    "    return tmp"
   ]
  },
  {
   "cell_type": "code",
   "execution_count": 21,
   "metadata": {},
   "outputs": [
    {
     "name": "stdout",
     "output_type": "stream",
     "text": [
      "24\n"
     ]
    }
   ],
   "source": [
    "print (factorial(4))"
   ]
  },
  {
   "cell_type": "code",
   "execution_count": 22,
   "metadata": {},
   "outputs": [
    {
     "name": "stdout",
     "output_type": "stream",
     "text": [
      "720\n"
     ]
    }
   ],
   "source": [
    "print (factorial(6))"
   ]
  },
  {
   "cell_type": "code",
   "execution_count": 23,
   "metadata": {},
   "outputs": [
    {
     "name": "stdout",
     "output_type": "stream",
     "text": [
      "1\n",
      "2\n",
      "3\n",
      "4\n",
      "5\n"
     ]
    }
   ],
   "source": [
    "for x in [1,2,3,4,5]:\n",
    "    print(x)"
   ]
  },
  {
   "cell_type": "code",
   "execution_count": 24,
   "metadata": {},
   "outputs": [
    {
     "name": "stdout",
     "output_type": "stream",
     "text": [
      "0\n",
      "1\n",
      "2\n",
      "3\n",
      "4\n"
     ]
    }
   ],
   "source": [
    "#La función range() sirve para generar una lista\n",
    "for x in range(5): #este caso es equivalente a range(0,5)\n",
    "    print(x)"
   ]
  },
  {
   "cell_type": "code",
   "execution_count": 25,
   "metadata": {},
   "outputs": [
    {
     "name": "stdout",
     "output_type": "stream",
     "text": [
      "-5\n",
      "-4\n",
      "-3\n",
      "-2\n",
      "-1\n",
      "0\n",
      "1\n"
     ]
    }
   ],
   "source": [
    "#También se puede inizializar desde números negativos \n",
    "for x in range(-5,2):\n",
    "    print(x)"
   ]
  },
  {
   "cell_type": "code",
   "execution_count": 26,
   "metadata": {},
   "outputs": [
    {
     "name": "stdout",
     "output_type": "stream",
     "text": [
      "uno\n",
      "dos\n",
      "tres\n",
      "cuatro\n"
     ]
    }
   ],
   "source": [
    "for num in [\"uno\", \"dos\", \"tres\", \"cuatro\"]:\n",
    "    print(num)"
   ]
  },
  {
   "cell_type": "code",
   "execution_count": 27,
   "metadata": {},
   "outputs": [
    {
     "name": "stdout",
     "output_type": "stream",
     "text": [
      "hidrogeno  =  1\n",
      "helio  =  2\n",
      "carbon  =  6\n"
     ]
    }
   ],
   "source": [
    "#Creando un diccionario\n",
    "elementos = { 'hidrogeno': 1, 'helio': 2, 'carbon': 6 }\n",
    "\n",
    "for llave, valor in elementos.items():\n",
    "    print(llave, \" = \", valor)"
   ]
  },
  {
   "cell_type": "code",
   "execution_count": 28,
   "metadata": {},
   "outputs": [
    {
     "name": "stdout",
     "output_type": "stream",
     "text": [
      "hidrogeno\n",
      "helio\n",
      "carbon\n"
     ]
    }
   ],
   "source": [
    "#Obteniendo sólo las llaves\n",
    "for llave in elementos.keys():\n",
    "    print(llave)"
   ]
  },
  {
   "cell_type": "code",
   "execution_count": 29,
   "metadata": {},
   "outputs": [
    {
     "name": "stdout",
     "output_type": "stream",
     "text": [
      "1\n",
      "2\n",
      "6\n"
     ]
    }
   ],
   "source": [
    "#Obteniendo sólo los valores\n",
    "for valor in elementos.values():\n",
    "    print(valor)"
   ]
  },
  {
   "cell_type": "code",
   "execution_count": 30,
   "metadata": {},
   "outputs": [
    {
     "name": "stdout",
     "output_type": "stream",
     "text": [
      "El indice es: 0 y el elemento: hidrogeno\n",
      "El indice es: 1 y el elemento: helio\n",
      "El indice es: 2 y el elemento: carbon\n"
     ]
    }
   ],
   "source": [
    "#Si se necesita iterar utilizando un índice\n",
    "for idx, x in enumerate(elementos):\n",
    "    print(\"El indice es: {} y el elemento: {}\".format(idx, x))"
   ]
  },
  {
   "cell_type": "code",
   "execution_count": 31,
   "metadata": {},
   "outputs": [],
   "source": [
    "def cuenta_idiom(limite):\n",
    "    for i in range(limite, 0, -1):\n",
    "        print(i)\n",
    "    else: #Corresponde al for, NO al IF \n",
    "        print(\"Cuenta finalizada\")"
   ]
  },
  {
   "cell_type": "code",
   "execution_count": 32,
   "metadata": {},
   "outputs": [
    {
     "name": "stdout",
     "output_type": "stream",
     "text": [
      "5\n",
      "4\n",
      "3\n",
      "2\n",
      "1\n",
      "Cuenta finalizada\n"
     ]
    }
   ],
   "source": [
    "cuenta_idiom(5)"
   ]
  },
  {
   "cell_type": "code",
   "execution_count": 33,
   "metadata": {},
   "outputs": [],
   "source": [
    "#Se rompe el ciclo y la sentencia else del for no se ejecuta\n",
    "def cuenta_idiomv2(limite):\n",
    "    for i in range(limite, 0, -1):\n",
    "        print(i)\n",
    "        if i == 3:\n",
    "            break  #Se rompe el ciclo\n",
    "    else: #Corresponde al FOR, NO al IF \n",
    "        print(\"Cuenta finalizada\")"
   ]
  },
  {
   "cell_type": "code",
   "execution_count": 34,
   "metadata": {},
   "outputs": [
    {
     "name": "stdout",
     "output_type": "stream",
     "text": [
      "5\n",
      "4\n",
      "3\n"
     ]
    }
   ],
   "source": [
    "cuenta_idiomv2(5)"
   ]
  },
  {
   "cell_type": "code",
   "execution_count": 35,
   "metadata": {},
   "outputs": [
    {
     "name": "stdout",
     "output_type": "stream",
     "text": [
      "-1.0\n"
     ]
    }
   ],
   "source": [
    "#Para utilizar una biblioteca, ésta se debe de importar\n",
    "import math\n",
    "\n",
    "x = math.cos(math.pi)\n",
    "\n",
    "print(x)"
   ]
  },
  {
   "cell_type": "code",
   "execution_count": 36,
   "metadata": {},
   "outputs": [
    {
     "name": "stdout",
     "output_type": "stream",
     "text": [
      "-1.0\n"
     ]
    }
   ],
   "source": [
    "#También se pueden importar todas las funciones de la bibliotecas, de esta manera no se tiene que usar el prefijo \n",
    "#de la biblioteca, que en el ejemplo anterior fue math \n",
    "from math import *\n",
    "\n",
    "x = cos(pi)  #No se utiliza el prefijo math\n",
    "\n",
    "print(x)"
   ]
  },
  {
   "cell_type": "code",
   "execution_count": 37,
   "metadata": {},
   "outputs": [
    {
     "name": "stdout",
     "output_type": "stream",
     "text": [
      "-1.0\n"
     ]
    }
   ],
   "source": [
    "#Otra manera es importar sólo las funciones que se necesitan\n",
    "from math import cos, pi\n",
    "\n",
    "x = cos(pi)\n",
    "\n",
    "print(x)"
   ]
  },
  {
   "cell_type": "code",
   "execution_count": 38,
   "metadata": {},
   "outputs": [
    {
     "name": "stdout",
     "output_type": "stream",
     "text": [
      "['__doc__', '__file__', '__loader__', '__name__', '__package__', '__spec__', 'acos', 'acosh', 'asin', 'asinh', 'atan', 'atan2', 'atanh', 'ceil', 'copysign', 'cos', 'cosh', 'degrees', 'e', 'erf', 'erfc', 'exp', 'expm1', 'fabs', 'factorial', 'floor', 'fmod', 'frexp', 'fsum', 'gamma', 'gcd', 'hypot', 'inf', 'isclose', 'isfinite', 'isinf', 'isnan', 'ldexp', 'lgamma', 'log', 'log10', 'log1p', 'log2', 'modf', 'nan', 'pi', 'pow', 'radians', 'remainder', 'sin', 'sinh', 'sqrt', 'tan', 'tanh', 'tau', 'trunc']\n"
     ]
    }
   ],
   "source": [
    "#Una vez que la biblioteca está importada, se pueden conocer las funciones que éste contiene\n",
    "print(dir(math))"
   ]
  },
  {
   "cell_type": "code",
   "execution_count": 39,
   "metadata": {},
   "outputs": [
    {
     "name": "stdout",
     "output_type": "stream",
     "text": [
      "Help on built-in function log in module math:\n",
      "\n",
      "log(...)\n",
      "    log(x, [base=math.e])\n",
      "    Return the logarithm of x to the given base.\n",
      "    \n",
      "    If the base not specified, returns the natural logarithm (base e) of x.\n",
      "\n"
     ]
    }
   ],
   "source": [
    "#Para conocer cómo utilizar las funciones, se puede utilizar la función help\n",
    "help(math.log)"
   ]
  },
  {
   "cell_type": "code",
   "execution_count": 40,
   "metadata": {},
   "outputs": [
    {
     "name": "stdout",
     "output_type": "stream",
     "text": [
      "-1.0\n"
     ]
    }
   ],
   "source": [
    "#Se puede definir un alias para llamar a las funciones que tiene la biblioteca math.\n",
    "#Esta es la forma más recomendada para importar módulos, ya que de esta manera se sabe de qué módulo proviene la función.\n",
    "import math as ma\n",
    "\n",
    "x = ma.cos(ma.pi)\n",
    "\n",
    "print(x)"
   ]
  },
  {
   "cell_type": "code",
   "execution_count": 41,
   "metadata": {},
   "outputs": [
    {
     "name": "stdout",
     "output_type": "stream",
     "text": [
      "Populating the interactive namespace from numpy and matplotlib\n"
     ]
    },
    {
     "name": "stderr",
     "output_type": "stream",
     "text": [
      "/srv/conda/envs/notebook/lib/python3.7/site-packages/IPython/core/magics/pylab.py:160: UserWarning: pylab import has clobbered these variables: ['tanh', 'exp', 'isclose', 'isinf', 'ceil', 'log10', 'sqrt', 'gcd', 'log', 'sinh', 'ldexp', 'log1p', 'modf', 'ma', 'cos', 'copysign', 'nan', 'floor', 'log2', 'isfinite', 'radians', 'sin', 'tan', 'inf', 'fabs', 'fmod', 'isnan', 'pi', 'expm1', 'remainder', 'gamma', 'trunc', 'hypot', 'cosh', 'frexp', 'degrees', 'e']\n",
      "`%matplotlib` prevents importing * from pylab and numpy\n",
      "  \"\\n`%matplotlib` prevents importing * from pylab and numpy\"\n"
     ]
    }
   ],
   "source": [
    "#Esta línea se ocupa para que las gráficas que se generen queden embebidas dentro de la página\n",
    "%pylab inline"
   ]
  },
  {
   "cell_type": "code",
   "execution_count": 42,
   "metadata": {},
   "outputs": [],
   "source": [
    "#Importando las bibliotecas\n",
    "import matplotlib.pyplot as plt\n",
    "from mpl_toolkits.mplot3d import Axes3D"
   ]
  },
  {
   "cell_type": "code",
   "execution_count": 43,
   "metadata": {},
   "outputs": [],
   "source": [
    "#Datos de entrada\n",
    "x = linspace(0, 5, 20) #Generando 10 puntos entre 0 y 5"
   ]
  },
  {
   "cell_type": "code",
   "execution_count": 44,
   "metadata": {},
   "outputs": [
    {
     "data": {
      "image/png": "[encoded data removed]",
      "text/plain": [
       "<Figure size 432x288 with 1 Axes>"
      ]
     },
     "metadata": {},
     "output_type": "display_data"
    }
   ],
   "source": [
    "fig, ax = plt.subplots(facecolor='w', edgecolor='k')\n",
    "ax.plot(x, sin(x), marker=\"o\",color=\"r\", linestyle='None')\n",
    "\n",
    "ax.grid(True)\n",
    "ax.set_xlabel('X')  #Etiqueta del eje x\n",
    "ax.set_ylabel('Y')  #Etiqueta del eje y\n",
    "ax.grid(True)\n",
    "ax.legend([\"y = x**2\"])\n",
    "\n",
    "plt.title('Puntos')\n",
    "plt.show()\n",
    "\n",
    "fig.savefig(\"gráfica.png\") #Guardando la gráfica"
   ]
  }
 ],
 "metadata": {
  "kernelspec": {
   "display_name": "Python 3",
   "language": "python",
   "name": "python3"
  },
  "language_info": {
   "codemirror_mode": {
    "name": "ipython",
    "version": 3
   },
   "file_extension": ".py",
   "mimetype": "text/x-python",
   "name": "python",
   "nbconvert_exporter": "python",
   "pygments_lexer": "ipython3",
   "version": "3.7.6"
  }
 },
 "nbformat": 4,
 "nbformat_minor": 4
}
