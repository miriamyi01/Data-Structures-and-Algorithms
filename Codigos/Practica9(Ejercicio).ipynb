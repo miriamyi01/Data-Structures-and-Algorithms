{
 "cells": [
  {
   "cell_type": "code",
   "execution_count": 1,
   "metadata": {},
   "outputs": [
    {
     "name": "stdout",
     "output_type": "stream",
     "text": [
      "El área del triángulo es: 12.0\n",
      "El perímetro del triángulo es: 12\n"
     ]
    }
   ],
   "source": [
    "#Área y perímetro del triángulo equilátero\n",
    "b=4 #base\n",
    "h=6 #altura\n",
    "area=(b*h)/2\n",
    "perimetro=3*b\n",
    "print(\"El área del triángulo es: \" +str(area))\n",
    "print(\"El perímetro del triángulo es: \" +str(perimetro))"
   ]
  },
  {
   "cell_type": "code",
   "execution_count": 6,
   "metadata": {},
   "outputs": [
    {
     "name": "stdout",
     "output_type": "stream",
     "text": [
      "El área del triángulo es: 13.5\n",
      "El perímetro del triángulo es: 9.7\n"
     ]
    }
   ],
   "source": [
    "#Área y perímetro del triángulo escaleno\n",
    "a=3.2 #lado\n",
    "c=2 #lado\n",
    "b=4.5 #base\n",
    "h=6 #altura\n",
    "area=(b*h)/2\n",
    "perimetro=a+b+c\n",
    "print(\"El área del triángulo es: \" +str(area))\n",
    "print(\"El perímetro del triángulo es: \" +str(perimetro))"
   ]
  },
  {
   "cell_type": "code",
   "execution_count": 3,
   "metadata": {},
   "outputs": [
    {
     "name": "stdout",
     "output_type": "stream",
     "text": [
      "El perímetro del círculo es: 18.8496\n",
      "El área del círculo es: 28.2744\n"
     ]
    }
   ],
   "source": [
    "#Area y perimetro del círculo\n",
    "r=3 #radio\n",
    "pi=3.1416\n",
    "perimetro=2*pi*r\n",
    "area=pi*(r*r)\n",
    "print(\"El perímetro del círculo es: \" +str(perimetro))\n",
    "print(\"El área del círculo es: \" +str(area))"
   ]
  },
  {
   "cell_type": "code",
   "execution_count": 4,
   "metadata": {},
   "outputs": [
    {
     "name": "stdout",
     "output_type": "stream",
     "text": [
      "El área del rectuángulo es: 45\n",
      "El perímetro del rectuangulo es: 28\n"
     ]
    }
   ],
   "source": [
    "#Area y perimetro del rectángulo\n",
    "b=5 #base\n",
    "h=9 #altura\n",
    "area=b*h\n",
    "perimetro=(2*b)+(2*h)\n",
    "print(\"El área del rectuángulo es: \" +str(area))\n",
    "print(\"El perímetro del rectuangulo es: \" +str(perimetro))"
   ]
  },
  {
   "cell_type": "code",
   "execution_count": 5,
   "metadata": {},
   "outputs": [
    {
     "name": "stdout",
     "output_type": "stream",
     "text": [
      "El área del trapecio es: 18.5\n",
      "El perímetro del trapecio es: 23.1\n"
     ]
    }
   ],
   "source": [
    "#Area y perimetro del trapecio\n",
    "B=10 #base mayor\n",
    "b=8.5 #base menor\n",
    "i=2.3 #lado inclinado\n",
    "a=2 #altura\n",
    "area=((B+b)*a)/2\n",
    "perimetro=B+b+(2*i)\n",
    "print(\"El área del trapecio es: \" +str(area))\n",
    "print(\"El perímetro del trapecio es: \" +str(perimetro))"
   ]
  },
  {
   "cell_type": "code",
   "execution_count": null,
   "metadata": {},
   "outputs": [],
   "source": []
  }
 ],
 "metadata": {
  "kernelspec": {
   "display_name": "Python 3",
   "language": "python",
   "name": "python3"
  },
  "language_info": {
   "codemirror_mode": {
    "name": "ipython",
    "version": 3
   },
   "file_extension": ".py",
   "mimetype": "text/x-python",
   "name": "python",
   "nbconvert_exporter": "python",
   "pygments_lexer": "ipython3",
   "version": "3.7.6"
  }
 },
 "nbformat": 4,
 "nbformat_minor": 4
}
